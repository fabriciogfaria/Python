{
 "cells": [
  {
   "cell_type": "code",
   "execution_count": 11,
   "id": "fb346925",
   "metadata": {},
   "outputs": [
    {
     "name": "stdout",
     "output_type": "stream",
     "text": [
      "Escreva para qual pessoa deseja enviar a mensagem: josevan\n",
      "Escreva a mensagem que deseja enviar: iae meu amigo\n",
      "\n",
      "-------------||-------------\n",
      "Mensagem enviada com sucesso!\n",
      "-------------||-------------\n",
      "\n"
     ]
    }
   ],
   "source": [
    "import pyautogui\n",
    "import pyperclip\n",
    "\n",
    "pessoa = input(\"Escreva para qual pessoa deseja enviar a mensagem: \")\n",
    "mensagem = input(\"Escreva a mensagem que deseja enviar: \")\n",
    "\n",
    "pyautogui.PAUSE = 2\n",
    "pyautogui.click(x=819, y=1074)\n",
    "pyautogui.click(x=21, y=233)\n",
    "pyautogui.click(x=358, y=61)\n",
    "pyperclip.copy(pessoa)\n",
    "pyautogui.hotkey(\"ctrl\",\"v\")\n",
    "pyautogui.hotkey('enter')\n",
    "pyperclip.copy(mensagem)\n",
    "pyautogui.hotkey(\"ctrl\", \"v\")\n",
    "pyautogui.hotkey(\"enter\")\n",
    "pyautogui.click(x=21, y=233)\n",
    "\n",
    "print(\"\"\"\n",
    "-------------||-------------\n",
    "Mensagem enviada com sucesso!\n",
    "-------------||-------------\n",
    "\"\"\")"
   ]
  },
  {
   "cell_type": "code",
   "execution_count": 6,
   "id": "d06753fb",
   "metadata": {},
   "outputs": [
    {
     "data": {
      "text/plain": [
       "Point(x=358, y=61)"
      ]
     },
     "execution_count": 6,
     "metadata": {},
     "output_type": "execute_result"
    }
   ],
   "source": [
    "import time\n",
    "\n",
    "time.sleep(5)\n",
    "pyautogui.position()"
   ]
  }
 ],
 "metadata": {
  "kernelspec": {
   "display_name": "Python 3 (ipykernel)",
   "language": "python",
   "name": "python3"
  },
  "language_info": {
   "codemirror_mode": {
    "name": "ipython",
    "version": 3
   },
   "file_extension": ".py",
   "mimetype": "text/x-python",
   "name": "python",
   "nbconvert_exporter": "python",
   "pygments_lexer": "ipython3",
   "version": "3.9.13"
  }
 },
 "nbformat": 4,
 "nbformat_minor": 5
}
