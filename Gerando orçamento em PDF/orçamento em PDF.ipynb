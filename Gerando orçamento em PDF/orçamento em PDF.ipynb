{
 "cells": [
  {
   "cell_type": "code",
   "execution_count": 33,
   "id": "184e4b25",
   "metadata": {},
   "outputs": [
    {
     "name": "stdout",
     "output_type": "stream",
     "text": [
      "Escreva o nome do projeto: Python\n",
      "Escreva o total de horas estimadas: 60\n",
      "Escreva o valor da hora trabalhada: 70\n",
      "Escreva o prazo estimado: 1 mês\n",
      "\n",
      "-------------||-------------\n",
      "Orçamento Gerado com Sucesso!\n",
      "-------------||-------------\n"
     ]
    }
   ],
   "source": [
    "from fpdf import FPDF\n",
    "\n",
    "projeto = input(\"Escreva o nome do projeto: \")\n",
    "horas_estimadas = input(\"Escreva o total de horas estimadas: \")\n",
    "valor_hora = input(\"Escreva o valor da hora trabalhada: \")\n",
    "prazo_estimado = input(\"Escreva o prazo estimado: \")\n",
    "\n",
    "valor_total_estimado = int(horas_estimadas) * int(valor_hora)\n",
    "\n",
    "pdf = FPDF()\n",
    "pdf.add_page()\n",
    "pdf.set_font(\"Arial\", \"B\", 14)\n",
    "\n",
    "pdf.image(\"orçamentotemplate.png\", x=0, y=0)\n",
    "\n",
    "pdf.text(135, 125, projeto)\n",
    "pdf.text(135, 145, horas_estimadas)\n",
    "pdf.text(135, 165, valor_hora)\n",
    "pdf.text(135, 185, prazo_estimado)\n",
    "pdf.text(135, 205, str(valor_total_estimado))\n",
    "\n",
    "pdf.output(\"orçamento.pdf\")\n",
    "\n",
    "print(\"\"\"\n",
    "-------------||-------------\n",
    "Orçamento Gerado com Sucesso!\n",
    "-------------||-------------\"\"\")"
   ]
  },
  {
   "cell_type": "code",
   "execution_count": null,
   "id": "3d1efca6",
   "metadata": {},
   "outputs": [],
   "source": []
  }
 ],
 "metadata": {
  "kernelspec": {
   "display_name": "Python 3 (ipykernel)",
   "language": "python",
   "name": "python3"
  },
  "language_info": {
   "codemirror_mode": {
    "name": "ipython",
    "version": 3
   },
   "file_extension": ".py",
   "mimetype": "text/x-python",
   "name": "python",
   "nbconvert_exporter": "python",
   "pygments_lexer": "ipython3",
   "version": "3.9.13"
  }
 },
 "nbformat": 4,
 "nbformat_minor": 5
}
